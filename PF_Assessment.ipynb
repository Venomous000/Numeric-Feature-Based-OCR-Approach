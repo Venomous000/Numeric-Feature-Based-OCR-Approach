{
  "nbformat": 4,
  "nbformat_minor": 0,
  "metadata": {
    "colab": {
      "provenance": [],
      "toc_visible": true,
      "mount_file_id": "1UD1ShjOqS8DjVD43tn-KBqBVc7ixGXeX",
      "authorship_tag": "ABX9TyO6Vk9DSvJg6abhfnj5oH9M",
      "include_colab_link": true
    },
    "kernelspec": {
      "name": "python3",
      "display_name": "Python 3"
    },
    "language_info": {
      "name": "python"
    }
  },
  "cells": [
    {
      "cell_type": "markdown",
      "metadata": {
        "id": "view-in-github",
        "colab_type": "text"
      },
      "source": [
        "<a href=\"https://colab.research.google.com/github/Venomous000/Numeric-Feature-Based-OCR-Approach/blob/main/PF_Assessment.ipynb\" target=\"_parent\"><img src=\"https://colab.research.google.com/assets/colab-badge.svg\" alt=\"Open In Colab\"/></a>"
      ]
    },
    {
      "cell_type": "markdown",
      "source": [
        "# **Mouting Drive**"
      ],
      "metadata": {
        "id": "wKYPEBKj_9z8"
      }
    },
    {
      "cell_type": "code",
      "source": [
        "from google.colab import drive\n",
        "drive.mount('/content/drive')"
      ],
      "metadata": {
        "colab": {
          "base_uri": "https://localhost:8080/"
        },
        "id": "pFR4vXw5uC9-",
        "outputId": "b75cec92-7767-41c6-a10a-2341478dccac"
      },
      "execution_count": null,
      "outputs": [
        {
          "output_type": "stream",
          "name": "stdout",
          "text": [
            "Drive already mounted at /content/drive; to attempt to forcibly remount, call drive.mount(\"/content/drive\", force_remount=True).\n"
          ]
        }
      ]
    },
    {
      "cell_type": "markdown",
      "source": [
        "# **Importing Libraries**"
      ],
      "metadata": {
        "id": "A9WHB01w_86j"
      }
    },
    {
      "cell_type": "code",
      "source": [],
      "metadata": {
        "id": "77R3KSzKPLhV"
      },
      "execution_count": null,
      "outputs": []
    },
    {
      "cell_type": "code",
      "source": [
        "import os\n",
        "import json\n",
        "import pandas as pd\n",
        "import numpy as np"
      ],
      "metadata": {
        "id": "rQ67ev-RQxap"
      },
      "execution_count": null,
      "outputs": []
    },
    {
      "cell_type": "markdown",
      "source": [
        "# **Fetching JSON**"
      ],
      "metadata": {
        "id": "Bv8aqkRbAfLO"
      }
    },
    {
      "cell_type": "code",
      "source": [
        "# Load the JSON data\n",
        "with open('/content/drive/MyDrive/PF Assessment/filtered_data.json', 'r') as file:\n",
        "    data = json.load(file)"
      ],
      "metadata": {
        "id": "BTeIq7-MfJgk"
      },
      "execution_count": null,
      "outputs": []
    },
    {
      "cell_type": "markdown",
      "source": [
        "# **Feature Calculation**"
      ],
      "metadata": {
        "id": "_cXHlTNjAehl"
      }
    },
    {
      "cell_type": "code",
      "source": [
        "# Function to calculate width, height, slope, and relative dimensions of each OCR feature\n",
        "def calculate_features(ocr_data, doc_size):\n",
        "    features = []\n",
        "    doc_width, doc_height = doc_size\n",
        "\n",
        "    for word, coords in ocr_data.items():\n",
        "        xs = [coord[\"x\"] for coord in coords]\n",
        "        ys = [coord[\"y\"] for coord in coords]\n",
        "\n",
        "        # Calculate width and height in terms of pixel coordinates\n",
        "        width = max(xs) - min(xs)\n",
        "        height = max(ys) - min(ys)\n",
        "\n",
        "        # Slope calculation\n",
        "        slope = np.arctan2(ys[1] - ys[0], xs[1] - xs[0]) if len(xs) > 1 else 0\n",
        "\n",
        "        # Relative dimensions\n",
        "        relative_width = width / doc_width\n",
        "        relative_height = height / doc_height\n",
        "\n",
        "        # Collect features for each word\n",
        "        features.append({\n",
        "            \"word\": word,\n",
        "            \"width\": width,\n",
        "            \"height\": height,\n",
        "            \"slope\": slope,\n",
        "            \"relative_width\": relative_width,\n",
        "            \"relative_height\": relative_height\n",
        "        })\n",
        "\n",
        "    return features"
      ],
      "metadata": {
        "id": "-zYJcl15fNDr"
      },
      "execution_count": null,
      "outputs": []
    },
    {
      "cell_type": "markdown",
      "source": [
        "\n",
        "# **Extract and Organize Features**"
      ],
      "metadata": {
        "id": "WvD8nSvfAulk"
      }
    },
    {
      "cell_type": "code",
      "source": [
        "# Initialize the DataFrame for storing the extracted features\n",
        "all_features = []\n",
        "\n",
        "for doc_id, doc_data in data.items():\n",
        "    ocr_data = doc_data[\"ocr\"]\n",
        "    doc_size = doc_data[\"size\"]\n",
        "\n",
        "    # Extract features\n",
        "    features = calculate_features(ocr_data, doc_size)\n",
        "\n",
        "    # Append document information to each feature entry\n",
        "    for feature in features:\n",
        "        feature[\"document_id\"] = doc_id\n",
        "        feature[\"document_type\"] = doc_data[\"type\"]\n",
        "        all_features.append(feature)"
      ],
      "metadata": {
        "id": "a6L_zfvZfR_v"
      },
      "execution_count": null,
      "outputs": []
    },
    {
      "cell_type": "markdown",
      "source": [
        "# **Create DataFrame and Add Labels**"
      ],
      "metadata": {
        "id": "4CC_nzyvBcQl"
      }
    },
    {
      "cell_type": "code",
      "source": [
        "# Create a DataFrame and assign category labels (assigning \"unknown\" for template items as example)\n",
        "df = pd.DataFrame(all_features)\n",
        "df[\"category_label\"] = df[\"word\"].apply(lambda x: \"unknown\" if x.isnumeric() else \"text\")"
      ],
      "metadata": {
        "id": "vs9RT7v3BgZr"
      },
      "execution_count": null,
      "outputs": []
    },
    {
      "cell_type": "markdown",
      "source": [
        "# **Save Features to CSV**"
      ],
      "metadata": {
        "id": "-X--2CfUBmiM"
      }
    },
    {
      "cell_type": "code",
      "source": [
        "# Save to CSV\n",
        "df.to_csv(\"extracted_features.csv\", index=False)\n",
        "print(\"CSV file 'extracted_features.csv' created successfully.\")"
      ],
      "metadata": {
        "colab": {
          "base_uri": "https://localhost:8080/"
        },
        "id": "bKAUi58MfaL0",
        "outputId": "66d7a547-aacf-439c-901d-192d776f2772"
      },
      "execution_count": null,
      "outputs": [
        {
          "output_type": "stream",
          "name": "stdout",
          "text": [
            "CSV file 'extracted_features.csv' created successfully.\n"
          ]
        }
      ]
    },
    {
      "cell_type": "markdown",
      "source": [
        "# **Load and Evaluate CSV Data**"
      ],
      "metadata": {
        "id": "WPrJC_7LByhe"
      }
    },
    {
      "cell_type": "code",
      "source": [
        "# Load the CSV file with extracted features\n",
        "csv_file_path = '/content/extracted_features.csv'\n",
        "df = pd.read_csv(csv_file_path)\n",
        "print (df.head(50))"
      ],
      "metadata": {
        "colab": {
          "base_uri": "https://localhost:8080/"
        },
        "id": "ANQk1ZPO_oSD",
        "outputId": "b4bb246c-f185-4e82-d75d-fc2527ba3f75"
      },
      "execution_count": null,
      "outputs": [
        {
          "output_type": "stream",
          "name": "stdout",
          "text": [
            "              word     width    height     slope  relative_width  \\\n",
            "0            EESTI  0.041992  0.025719 -0.073638        0.000041   \n",
            "1         VABARIIK  0.141602  0.039334  0.021365        0.000138   \n",
            "2         Republic  0.098633  0.031770  0.000000        0.000096   \n",
            "3               of  0.024414  0.031770  0.000000        0.000024   \n",
            "4          Estonia  0.084961  0.031770  0.000000        0.000083   \n",
            "5   ISIKUTUNNISTUS  0.248047  0.039334  0.018295        0.000242   \n",
            "6         Identity  0.084961  0.036309 -0.017805        0.000083   \n",
            "7             Card  0.052734  0.034796 -0.028681        0.000051   \n",
            "8    PEREKONNANIME  0.117187  0.021180  0.012909        0.000114   \n",
            "9                /  0.010742  0.036309  0.000000        0.000010   \n",
            "10         SURNAME  0.070312  0.021180  0.021513        0.000069   \n",
            "11          RAGNAR  0.121094  0.034796  0.012493        0.000118   \n",
            "12         EESNIMI  0.057617  0.019667  0.000000        0.000056   \n",
            "13           GIVEN  0.042969  0.019667  0.000000        0.000042   \n",
            "14            NAME  0.041992  0.019667  0.000000        0.000041   \n",
            "15            JANE  0.062500  0.036309  0.024201        0.000061   \n",
            "16     50210283723  0.178711  0.031770  0.000000        0.000175   \n",
            "17          007272  0.177734  0.054463  0.000000        0.000174   \n",
            "18        KASUTAJA  0.079102  0.021180  0.000000        0.000077   \n",
            "19         ALLKIRI  0.054688  0.021180  0.000000        0.000053   \n",
            "20         HOLDERS  0.072266  0.021180  0.000000        0.000071   \n",
            "21       SIGNATURE  0.086914  0.021180  0.000000        0.000085   \n",
            "22          KEHTIV  0.052734  0.019667  0.000000        0.000051   \n",
            "23            KUNI  0.033203  0.019667  0.000000        0.000032   \n",
            "24            DATE  0.038086  0.019667  0.000000        0.000037   \n",
            "25              OF  0.020508  0.019667  0.000000        0.000020   \n",
            "26          EXPIRY  0.046875  0.019667  0.000000        0.000046   \n",
            "27              24  0.032227  0.033283  0.000000        0.000031   \n",
            "28              08  0.033203  0.033283  0.000000        0.000032   \n",
            "29            2027  0.066406  0.033283  0.000000        0.000065   \n",
            "30            SUGU  0.039062  0.021180  0.000000        0.000038   \n",
            "31             SEX  0.027344  0.021180  0.000000        0.000027   \n",
            "32               M  0.022461  0.033283  0.000000        0.000022   \n",
            "33       DOKUMENDI  0.086914  0.025719  0.017405        0.000085   \n",
            "34          NUMBER  0.062500  0.024206  0.000000        0.000061   \n",
            "35        DOCUMENT  0.083008  0.025719  0.018224        0.000081   \n",
            "36       AC0738138  0.145508  0.034796  0.000000        0.000142   \n",
            "37         ESTONIA  0.041016  0.013616  0.000000        0.000040   \n",
            "38     KODAKONDSUS  0.109375  0.022693  0.013831        0.000107   \n",
            "39     CITIZENSHIP  0.086914  0.022693  0.017404        0.000085   \n",
            "40             EST  0.048828  0.036309  0.063147        0.000048   \n",
            "41        SÜNNIAEG  0.072266  0.022693  0.020932        0.000071   \n",
            "42           BIRTH  0.041016  0.022693  0.036868        0.000040   \n",
            "43              22  0.031250  0.033283  0.000000        0.000031   \n",
            "44              12  0.025391  0.033283  0.000000        0.000025   \n",
            "45            2002  0.066406  0.036309  0.022778        0.000065   \n",
            "46       ISIKUKOOD  0.075195  0.021180  0.000000        0.000073   \n",
            "47        PERSONAL  0.075195  0.021180  0.000000        0.000073   \n",
            "48            CODE  0.040039  0.021180  0.000000        0.000039   \n",
            "49     55110283517  0.165039  0.039334  0.009166        0.000161   \n",
            "\n",
            "    relative_height  document_id                document_type category_label  \n",
            "0          0.000039            0  estonia_none_idcard_design2           text  \n",
            "1          0.000060            0  estonia_none_idcard_design2           text  \n",
            "2          0.000048            0  estonia_none_idcard_design2           text  \n",
            "3          0.000048            0  estonia_none_idcard_design2           text  \n",
            "4          0.000048            0  estonia_none_idcard_design2           text  \n",
            "5          0.000060            0  estonia_none_idcard_design2           text  \n",
            "6          0.000055            0  estonia_none_idcard_design2           text  \n",
            "7          0.000053            0  estonia_none_idcard_design2           text  \n",
            "8          0.000032            0  estonia_none_idcard_design2           text  \n",
            "9          0.000055            0  estonia_none_idcard_design2           text  \n",
            "10         0.000032            0  estonia_none_idcard_design2           text  \n",
            "11         0.000053            0  estonia_none_idcard_design2           text  \n",
            "12         0.000030            0  estonia_none_idcard_design2           text  \n",
            "13         0.000030            0  estonia_none_idcard_design2           text  \n",
            "14         0.000030            0  estonia_none_idcard_design2           text  \n",
            "15         0.000055            0  estonia_none_idcard_design2           text  \n",
            "16         0.000048            0  estonia_none_idcard_design2        unknown  \n",
            "17         0.000082            0  estonia_none_idcard_design2        unknown  \n",
            "18         0.000032            0  estonia_none_idcard_design2           text  \n",
            "19         0.000032            0  estonia_none_idcard_design2           text  \n",
            "20         0.000032            0  estonia_none_idcard_design2           text  \n",
            "21         0.000032            0  estonia_none_idcard_design2           text  \n",
            "22         0.000030            0  estonia_none_idcard_design2           text  \n",
            "23         0.000030            0  estonia_none_idcard_design2           text  \n",
            "24         0.000030            0  estonia_none_idcard_design2           text  \n",
            "25         0.000030            0  estonia_none_idcard_design2           text  \n",
            "26         0.000030            0  estonia_none_idcard_design2           text  \n",
            "27         0.000050            0  estonia_none_idcard_design2        unknown  \n",
            "28         0.000050            0  estonia_none_idcard_design2        unknown  \n",
            "29         0.000050            0  estonia_none_idcard_design2        unknown  \n",
            "30         0.000032            0  estonia_none_idcard_design2           text  \n",
            "31         0.000032            0  estonia_none_idcard_design2           text  \n",
            "32         0.000050            0  estonia_none_idcard_design2           text  \n",
            "33         0.000039            0  estonia_none_idcard_design2           text  \n",
            "34         0.000037            0  estonia_none_idcard_design2           text  \n",
            "35         0.000039            0  estonia_none_idcard_design2           text  \n",
            "36         0.000053            0  estonia_none_idcard_design2           text  \n",
            "37         0.000021            0  estonia_none_idcard_design2           text  \n",
            "38         0.000034            0  estonia_none_idcard_design2           text  \n",
            "39         0.000034            0  estonia_none_idcard_design2           text  \n",
            "40         0.000055            0  estonia_none_idcard_design2           text  \n",
            "41         0.000034            0  estonia_none_idcard_design2           text  \n",
            "42         0.000034            0  estonia_none_idcard_design2           text  \n",
            "43         0.000050            0  estonia_none_idcard_design2        unknown  \n",
            "44         0.000050            0  estonia_none_idcard_design2        unknown  \n",
            "45         0.000055            0  estonia_none_idcard_design2        unknown  \n",
            "46         0.000032            0  estonia_none_idcard_design2           text  \n",
            "47         0.000032            0  estonia_none_idcard_design2           text  \n",
            "48         0.000032            0  estonia_none_idcard_design2           text  \n",
            "49         0.000060            0  estonia_none_idcard_design2        unknown  \n"
          ]
        }
      ]
    },
    {
      "cell_type": "markdown",
      "source": [
        "# **Document dimensions as extracted from JSON data**"
      ],
      "metadata": {
        "id": "75cLtKu9B6ci"
      }
    },
    {
      "cell_type": "code",
      "source": [
        "MAX_DOCUMENT_WIDTH = 1024\n",
        "MAX_DOCUMENT_HEIGHT = 661\n",
        "print(\"Maximum document width: \", MAX_DOCUMENT_WIDTH)\n",
        "print(\"Maximum document height: \", MAX_DOCUMENT_HEIGHT)"
      ],
      "metadata": {
        "colab": {
          "base_uri": "https://localhost:8080/"
        },
        "id": "oIavaZ_-CP8U",
        "outputId": "0bcb5376-49ff-46c0-de25-c6f52bddb43b"
      },
      "execution_count": null,
      "outputs": [
        {
          "output_type": "stream",
          "name": "stdout",
          "text": [
            "Maximum document width:  1024\n",
            "Maximum document height:  661\n"
          ]
        }
      ]
    },
    {
      "cell_type": "markdown",
      "source": [
        "# **1. Check for missing values**"
      ],
      "metadata": {
        "id": "SvamsbvyCXND"
      }
    },
    {
      "cell_type": "code",
      "source": [
        "missing_values = df.isnull().sum()\n",
        "print(\"Missing values per column:\\n\",missing_values)"
      ],
      "metadata": {
        "colab": {
          "base_uri": "https://localhost:8080/"
        },
        "id": "SpI2TvLnCXFs",
        "outputId": "c6d1523d-4339-4ba0-be80-c9b254cd7aec"
      },
      "execution_count": null,
      "outputs": [
        {
          "output_type": "stream",
          "name": "stdout",
          "text": [
            "Missing values per column:\n",
            " word               0\n",
            "width              0\n",
            "height             0\n",
            "slope              0\n",
            "relative_width     0\n",
            "relative_height    0\n",
            "document_id        0\n",
            "document_type      0\n",
            "category_label     0\n",
            "dtype: int64\n"
          ]
        }
      ]
    },
    {
      "cell_type": "markdown",
      "source": [
        "# **2. Consistency checks for relative dimensions**"
      ],
      "metadata": {
        "id": "wLUj7HTrCW-a"
      }
    },
    {
      "cell_type": "code",
      "source": [
        "# These should ideally be between 0 and 1 as they represent proportions\n",
        "invalid_relative_width = df[(df['relative_width'] < 0) | (df['relative_width'] > 1)]\n",
        "invalid_relative_height = df[(df['relative_height'] < 0) | (df['relative_height'] > 1)]\n",
        "print(\"Entries with invalid relative width: \", len(invalid_relative_width))\n",
        "print(\"Entries with invalid relative height: \", len(invalid_relative_height))"
      ],
      "metadata": {
        "colab": {
          "base_uri": "https://localhost:8080/"
        },
        "id": "1t3h2jXKCW3D",
        "outputId": "e8712f1e-2928-4acd-f020-a15b3fb7406e"
      },
      "execution_count": null,
      "outputs": [
        {
          "output_type": "stream",
          "name": "stdout",
          "text": [
            "Entries with invalid relative width:  0\n",
            "Entries with invalid relative height:  0\n"
          ]
        }
      ]
    },
    {
      "cell_type": "markdown",
      "source": [
        "# **3. Logical validation of width and height against maximum document dimensions**"
      ],
      "metadata": {
        "id": "ovxF4RZoCWvz"
      }
    },
    {
      "cell_type": "code",
      "source": [
        "# No individual width or height should exceed the document's width and height\n",
        "invalid_width = df[df['width'] > MAX_DOCUMENT_WIDTH]\n",
        "invalid_height = df[df['height'] > MAX_DOCUMENT_HEIGHT]\n",
        "print(\"\\nEntries with width exceeding document width:\", len(invalid_width))\n",
        "print(\"Entries with height exceeding document height:\", len(invalid_height))"
      ],
      "metadata": {
        "colab": {
          "base_uri": "https://localhost:8080/"
        },
        "id": "FeiJVy6lCWn7",
        "outputId": "30ddb330-9081-428e-90a5-7779170b61c0"
      },
      "execution_count": null,
      "outputs": [
        {
          "output_type": "stream",
          "name": "stdout",
          "text": [
            "\n",
            "Entries with width exceeding document width: 0\n",
            "Entries with height exceeding document height: 0\n"
          ]
        }
      ]
    },
    {
      "cell_type": "markdown",
      "source": [
        "# **4. Outlier Detection for Extreme Slopes**"
      ],
      "metadata": {
        "id": "0CAUBRyYCWGM"
      }
    },
    {
      "cell_type": "code",
      "source": [
        "outliers_slope = df[df['slope'].abs() > 1.5]  # example threshold for slope\n",
        "print(\"\\nEntries with extreme slopes:\", len(outliers_slope))"
      ],
      "metadata": {
        "colab": {
          "base_uri": "https://localhost:8080/"
        },
        "id": "T7hkMhJGHcjW",
        "outputId": "18f25354-85cd-4737-ab9e-1f2cec27cbb5"
      },
      "execution_count": null,
      "outputs": [
        {
          "output_type": "stream",
          "name": "stdout",
          "text": [
            "\n",
            "Entries with extreme slopes: 26\n"
          ]
        }
      ]
    },
    {
      "cell_type": "markdown",
      "source": [
        "# **Final Summary of Results**"
      ],
      "metadata": {
        "id": "3xbCqZQyCVbr"
      }
    },
    {
      "cell_type": "code",
      "source": [
        "if missing_values.sum() == 0 and len(invalid_relative_width) == 0 and len(invalid_relative_height) == 0 and len(invalid_width) == 0 and len(invalid_height) == 0:\n",
        "    print(\"\\nData validation passed successfully!\")\n",
        "else:\n",
        "    print(\"\\nData validation completed with some issues. Review the outputs above for details.\")"
      ],
      "metadata": {
        "colab": {
          "base_uri": "https://localhost:8080/"
        },
        "id": "fnvO3zDdHkte",
        "outputId": "e7bfe6d7-e0b7-49b2-bc18-df9f9fb99492"
      },
      "execution_count": null,
      "outputs": [
        {
          "output_type": "stream",
          "name": "stdout",
          "text": [
            "\n",
            "Data validation passed successfully!\n"
          ]
        }
      ]
    }
  ]
}